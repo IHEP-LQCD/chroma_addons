{
 "metadata": {
  "language_info": {
   "codemirror_mode": {
    "name": "ipython",
    "version": 3
   },
   "file_extension": ".py",
   "mimetype": "text/x-python",
   "name": "python",
   "nbconvert_exporter": "python",
   "pygments_lexer": "ipython3",
   "version": "3.7.6"
  },
  "orig_nbformat": 2,
  "kernelspec": {
   "name": "python3",
   "display_name": "Python 3.7.6 64-bit ('base': conda)",
   "metadata": {
    "interpreter": {
     "hash": "f048195d803dbb89568bc164ee3edc71708837990e1fb62ab8e9fbba2f16c3ed"
    }
   }
  }
 },
 "nbformat": 4,
 "nbformat_minor": 2,
 "cells": [
  {
   "cell_type": "code",
   "execution_count": 1,
   "metadata": {},
   "outputs": [],
   "source": [
    "import os\n",
    "import re"
   ]
  },
  {
   "source": [
    "# 定义模版文件"
   ],
   "cell_type": "markdown",
   "metadata": {}
  },
  {
   "cell_type": "code",
   "execution_count": 2,
   "metadata": {},
   "outputs": [],
   "source": [
    "temp_cc =[\"\"\"#include \"register_new.h\"\n",
    "namespace Chroma {\n",
    "void register_new(bool & foo)\n",
    "{\n",
    "  // New measurement registrations go here\n",
    "  \n",
    "  \"\"\",\"\"\"\n",
    "}\n",
    "}\"\"\"] \n",
    "temp_h = [\"\"\"#ifndef __register_h__\n",
    "#define __register_h__\n",
    " \n",
    "// New measurement headers go here\n",
    "\n",
    "\"\"\",\n",
    "\"\"\"\n",
    "namespace Chroma {\n",
    "void register_new(bool &);\n",
    "}\n",
    "\n",
    "#endif\"\"\"]"
   ]
  },
  {
   "source": [
    "# 定位文件"
   ],
   "cell_type": "markdown",
   "metadata": {}
  },
  {
   "cell_type": "code",
   "execution_count": 3,
   "metadata": {},
   "outputs": [],
   "source": [
    "files = os.listdir(\"./compile_src/\")\n",
    "files.remove(\"CMakeLists.txt\")\n",
    "inline_f =[i for i in files if \"inline\" in i]\n",
    "heads=[os.path.splitext(i)[0] + \".h\" for i in inline_f if \".cc\" in os.path.splitext(i)[1]]\n",
    "inline_f = [\"./compile_src/\"+i for i in inline_f ]"
   ]
  },
  {
   "source": [
    "# 写入头文件"
   ],
   "cell_type": "markdown",
   "metadata": {}
  },
  {
   "cell_type": "code",
   "execution_count": 4,
   "metadata": {},
   "outputs": [],
   "source": [
    "w_heas = [\"#include\"+'\"'+i+'\"' for i in heads]\n",
    "with open(\"register_new.h\",\"w\") as f:\n",
    "    f.write(temp_h[0])\n",
    "    for i in w_heas:\n",
    "        f.write(i + \"\\n\")\n",
    "    f.write(temp_h[1])"
   ]
  },
  {
   "source": [
    "# 写入cc文件"
   ],
   "cell_type": "markdown",
   "metadata": {}
  },
  {
   "cell_type": "code",
   "execution_count": 5,
   "metadata": {},
   "outputs": [],
   "source": [
    "env_list=[]\n",
    "for i in inline_f:\n",
    "    with open(i,\"r\") as f:\n",
    "        for each_line in f.readlines():\n",
    "            searchObj = re.search(\"Inline(.*)Env\",each_line)\n",
    "            if searchObj:\n",
    "                env_list.append(searchObj.group())\n",
    "                break\n",
    "w_env = [\"foo &= %s::registerAll();\"%i for i in env_list]"
   ]
  },
  {
   "cell_type": "code",
   "execution_count": 6,
   "metadata": {},
   "outputs": [],
   "source": [
    "with open(\"register_new.cc\",\"w\") as f:\n",
    "    f.write(temp_cc[0])\n",
    "    for i in w_env:\n",
    "        f.write(i + \"\\n\")\n",
    "    f.write(temp_cc[1])\n"
   ]
  }
 ]
}